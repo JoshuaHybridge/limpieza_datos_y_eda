{
 "cells": [
  {
   "cell_type": "markdown",
   "metadata": {},
   "source": [
    "# Limpieza de datos\n",
    "\n",
    "La mayoría de la gente piensa que ser científico de datos significa estar corriendo modelos avanzados de Machine Learning todo el tiempo. La realidad es muy distinta:\n",
    "\n",
    "![Tiempo de un científico de datos](./img/datascientist_time.jpeg)\n",
    "\n",
    "La gran mayoría del tiempo se va **limpiando y organizando** los datos con los que queremos trabajar.\n",
    "\n",
    "Los científicos de datos utilizamos herramientas como Pandas, Numpy, Matplotlib y Seaborn para limpiar los datos con los que queremos hacer algo.\n",
    "\n",
    "## ETL\n",
    "\n",
    "Un tipo de tarea que realizamos con gran frecuencia los científicos de datos son los **ETL**.\n",
    "\n",
    "![Proceso de ETL](./img/etl.png)\n",
    "\n",
    "ETL es un acrónimo que significa Extract, Transform, Load. Es un proceso que se utiliza para extraer datos de una fuente, transformarlos en un formato que sea adecuado para el análisis y cargarlos en una base de datos o algún otro sistema de almacenamiento.\n",
    "\n",
    "## Ejemplo práctico\n",
    "\n",
    "Los datos que usaremos para esta limpieza y nuestro siguiente análisis son datos de incidencia delictiva en nuestro país.\n",
    "\n",
    "La iniciativa de datos abiertos del gobierno de México nos proporciona datos de incidencia delictiva desde 2015 hasta la fecha. Los datos se actualizan todos los meses y se pueden descargar desde el siguiente enlace: https://www.gob.mx/sesnsp/acciones-y-programas/datos-abiertos-de-incidencia-delictiva\n",
    "\n",
    "---\n",
    "\n",
    "Como podemos ver en el portal, se proporcionan los datos tanto a nivel estatal como a nivel municipal. En este caso, utilizaremos los datos a nivel estatal.\n",
    "\n",
    "Descarguemos los datos y guardemos el archivo CSV en la carpeta data con el nombre `datos_delitos.csv`.\n",
    "\n",
    "---\n",
    "\n",
    "Ahora leamos el archivo CSV y veamos cómo se ven los datos.\n",
    "\n",
    "Primero que nada, importemos pandas"
   ]
  },
  {
   "cell_type": "code",
   "execution_count": null,
   "metadata": {},
   "outputs": [],
   "source": [
    "import pandas as pd"
   ]
  },
  {
   "cell_type": "code",
   "execution_count": null,
   "metadata": {},
   "outputs": [],
   "source": [
    "df = pd.read_csv('data/datos_delitos.csv')"
   ]
  },
  {
   "cell_type": "markdown",
   "metadata": {},
   "source": [
    "Aquí tenemos un error muy común que suele ocurrir cuando un archivo se guarda en una computadora con cierto \"encoding\". \n",
    "\n",
    "Un encoding es una tabla que relaciona un número con un carácter. Por ejemplo, en la tabla ASCII, el número 65 corresponde a la letra \"A\".\n",
    "\n",
    "Si el archivo que estamos leyendo fue guardado con un encoding distinto al que pandas espera, nos arrojará un error. \n",
    "\n",
    "Para solucionar esto, podemos utilizar el parámetro `encoding` de la función `pd.read_csv()` y especificar el encoding correcto.\n",
    "\n",
    "¿Pero cómo sabemos con qué encoding cuenta el archivo?\n",
    "\n",
    "La realidad es que la gran mayoría de los archivos los encontrarán en encoding utf-8 y Pandas no va a dar ningún error. Aquí estamos teniendo este problema porque la computadora que utilizan para generar este archivo uso un encoding diferente a utf-8.\n",
    "\n",
    "En México, por lo general, si un archivo no está en utf-8, lo más seguro es que esté en `ISO-8859-1` o `latin1`."
   ]
  },
  {
   "cell_type": "markdown",
   "metadata": {},
   "source": [
    "Intentemos cargar el archivo especificando el encoding `ISO-8859-1`."
   ]
  },
  {
   "cell_type": "code",
   "execution_count": null,
   "metadata": {},
   "outputs": [],
   "source": [
    "df = pd.read_csv('data/datos_delitos.csv', encoding='ISO-8859-1')\n",
    "df.head()"
   ]
  },
  {
   "cell_type": "markdown",
   "metadata": {},
   "source": [
    "Y vemos que ya podemos leer correctamente el archivo.\n",
    "\n",
    "\n",
    "¿Existe alguna forma de verificar el encoding de un archivo sin tener que estar adivinando?\n",
    "\n",
    "ChatGTP generó el siguiente código:"
   ]
  },
  {
   "cell_type": "code",
   "execution_count": null,
   "metadata": {},
   "outputs": [],
   "source": [
    "import chardet\n",
    "\n",
    "def detect_encoding(file_path):\n",
    "    with open(file_path, 'rb') as f:\n",
    "        rawdata = f.read()\n",
    "    result = chardet.detect(rawdata)\n",
    "    return result\n",
    "\n",
    "file_path = './data/datos_delitos.csv'\n",
    "encoding_info = detect_encoding(file_path)\n",
    "print(f\"Detected encoding: {encoding_info['encoding']}\")"
   ]
  },
  {
   "cell_type": "markdown",
   "metadata": {},
   "source": [
    "Sigamos..."
   ]
  },
  {
   "cell_type": "code",
   "execution_count": null,
   "metadata": {},
   "outputs": [],
   "source": [
    "df.tail(3)"
   ]
  },
  {
   "cell_type": "code",
   "execution_count": null,
   "metadata": {},
   "outputs": [],
   "source": [
    "df.info()"
   ]
  },
  {
   "cell_type": "markdown",
   "metadata": {},
   "source": [
    "Bien. Están muy bien los datos. Sin embargo, tenemos un problema con el que es muy común encontrarnos. \n",
    "\n",
    "Resulta que el formato en el que está el archivo es fácil entender por seres humanos:\n",
    "\n",
    "\n",
    "```markdown\n",
    "| Año      | Entidad  | Enero    | Febrero  | Mes X    |\n",
    "|----------|----------|----------|----------|----------|\n",
    "|   ...    |   ...    |   ...    |   ...    |   ...    |\n",
    "|   ...    |   ...    |   ...    |   ...    |   ...    |\n",
    "|   ...    |   ...    |   ...    |   ...    |   ...    |\n",
    "|   ...    |   ...    |   ...    |   ...    |   ...    |\n",
    "|   ...    |   ...    |   ...    |   ...    |   ...    |\n",
    "```\n",
    "\n",
    "Vemos que tenemos los meses como encabezados. Es decir, el archivo está tratando cada mes como si fuera una variable. \n",
    "\n",
    "Nosotros como científicos de datos estamos más interesados en conjuntos de datos que no estén en este formato de \"resumen\" o \"tabla dinámica\". Para nosotros, lo ideal sería que cada mes fuera simplemente una observación más en nuestro conjunto de datos. Es decir, queremos transformar la tabla de arriba en:\n",
    "\n",
    "```markdown\n",
    "| Año      | Entidad  | Mes        |\n",
    "|----------|----------|------------|\n",
    "|   ...    |   ...    |   Enero    |\n",
    "|   ...    |   ...    |   Febrero  |\n",
    "|   ...    |   ...    |   Marzo    |\n",
    "|   ...    |   ...    |   Abril    |\n",
    "|   ...    |   ...    |   Mes X    |\n",
    "```\n",
    "\n",
    "A este tipo de formato le llamos \"formato largo de datos\". "
   ]
  },
  {
   "cell_type": "markdown",
   "metadata": {},
   "source": [
    "Haremos las siguientes limpiezas:\n",
    "* Transformar los nombres de las columnas para que no tengan caracteres especiales y estén siempre en minúsculas\n",
    "* Convertir el dataset a un formato de datos \"largo\""
   ]
  },
  {
   "cell_type": "code",
   "execution_count": null,
   "metadata": {},
   "outputs": [],
   "source": [
    "for col in df.columns:\n",
    "    print(col)"
   ]
  },
  {
   "cell_type": "code",
   "execution_count": null,
   "metadata": {},
   "outputs": [],
   "source": [
    "len(df.columns)"
   ]
  },
  {
   "cell_type": "markdown",
   "metadata": {},
   "source": [
    "### Limpiar nombres de columnas"
   ]
  },
  {
   "cell_type": "code",
   "execution_count": null,
   "metadata": {},
   "outputs": [],
   "source": [
    "def limpiar_columnas(df):\n",
    "    columnas_limpias = []\n",
    "    for col in df.columns:\n",
    "        # convertir a minusculas, reemplazar espacios por guiones bajos y eliminar caracteres especiales\n",
    "        col = col.lower().replace(\" \", \"_\").replace(\"ñ\", \"ni\").replace(\".\", \"\").replace(\"á\", \"a\").replace(\"é\", \"e\").replace(\"í\",\"i\").replace(\"ó\", \"o\").replace(\"ú\", \"u\")\n",
    "        columnas_limpias.append(col)\n",
    "    \n",
    "    df.columns = columnas_limpias\n",
    "    \n",
    "    return df\n"
   ]
  },
  {
   "cell_type": "code",
   "execution_count": null,
   "metadata": {},
   "outputs": [],
   "source": [
    "df.head(2)"
   ]
  },
  {
   "cell_type": "code",
   "execution_count": null,
   "metadata": {},
   "outputs": [],
   "source": [
    "df = limpiar_columnas(df)"
   ]
  },
  {
   "cell_type": "code",
   "execution_count": null,
   "metadata": {},
   "outputs": [],
   "source": [
    "df.head(3)"
   ]
  },
  {
   "cell_type": "markdown",
   "metadata": {},
   "source": [
    "Muy bien. Ahora lo que queremos hacer es quitar algunas columnas. Nos interesan nada más las siguientes:"
   ]
  },
  {
   "cell_type": "code",
   "execution_count": null,
   "metadata": {},
   "outputs": [],
   "source": [
    "df[['anio', 'entidad']]"
   ]
  },
  {
   "cell_type": "code",
   "execution_count": null,
   "metadata": {},
   "outputs": [],
   "source": [
    "df = df[['anio', 'clave_ent', 'entidad', 'tipo_de_delito', 'subtipo_de_delito', 'modalidad','enero', 'febrero', 'marzo', 'abril', 'mayo', 'junio', 'julio', 'agosto', 'septiembre', 'octubre', 'noviembre', 'diciembre']]\n",
    "df.head(2)"
   ]
  },
  {
   "cell_type": "markdown",
   "metadata": {},
   "source": [
    "### Formato largo de datos"
   ]
  },
  {
   "cell_type": "markdown",
   "metadata": {},
   "source": [
    "Ahora, usaremos el método `melt` para convertir las columnas a observaciones.\n",
    "\n",
    "Queremos convervar las coumnas:\n",
    "* anio\n",
    "* clave_ent\n",
    "* entidad\n",
    "* tipo_de_delito\n",
    "* subtipo_de_delito\n",
    "* modalidad\n",
    "\n",
    "El resto de las columnas las vamos a juntar en una nueva columna llamada \"nombre_mes\" y sus valores los vamos a sumar en otra llamada \"frecuencia\""
   ]
  },
  {
   "cell_type": "code",
   "execution_count": null,
   "metadata": {},
   "outputs": [],
   "source": [
    "print(\"Shape \", df.shape)"
   ]
  },
  {
   "cell_type": "code",
   "execution_count": null,
   "metadata": {},
   "outputs": [],
   "source": [
    "datos_long = df.melt(id_vars=['anio', 'clave_ent', 'entidad','tipo_de_delito', 'subtipo_de_delito', 'modalidad'], var_name='nombre_mes', value_name='frecuencia')"
   ]
  },
  {
   "cell_type": "code",
   "execution_count": null,
   "metadata": {},
   "outputs": [],
   "source": [
    "print(\"Shape: \", datos_long.shape)"
   ]
  },
  {
   "cell_type": "code",
   "execution_count": null,
   "metadata": {},
   "outputs": [],
   "source": [
    "datos_long.head(5)"
   ]
  },
  {
   "cell_type": "code",
   "execution_count": null,
   "metadata": {},
   "outputs": [],
   "source": [
    "datos_long.info()"
   ]
  },
  {
   "cell_type": "markdown",
   "metadata": {},
   "source": [
    "Supongamos que para este análisis, no nos importan los niveles subtipo de delito y modalidad. O sea, no queremos tener la distinción entre homicidios dolosos y culposos (sé que son bastante diferentes, pero simplifiquemos nuestro ejemplo).\n",
    "\n",
    "Vamos a agrupar nuestro dataframe por anio, clave_ent, entidad, tipo_de_delito y nombre_mes. Esto hará que todos los tipos de homicidios se sumen al tipo \"homicidio\" o todos los tipos de robo de vehículo (con o sin violencia) se sumen a \"robo de vehículo\"."
   ]
  },
  {
   "cell_type": "code",
   "execution_count": null,
   "metadata": {},
   "outputs": [],
   "source": [
    "datos_long = datos_long.groupby(['anio', 'clave_ent', 'entidad', 'tipo_de_delito', 'nombre_mes'])['frecuencia'].sum().reset_index()"
   ]
  },
  {
   "cell_type": "code",
   "execution_count": null,
   "metadata": {},
   "outputs": [],
   "source": [
    "datos_long[datos_long.tipo_de_delito == 'Robo'].sample(15)"
   ]
  },
  {
   "cell_type": "markdown",
   "metadata": {},
   "source": [
    "Mostremos todos los estados y su respectiva clave"
   ]
  },
  {
   "cell_type": "code",
   "execution_count": null,
   "metadata": {},
   "outputs": [],
   "source": [
    "datos_long[['clave_ent', 'entidad']].drop_duplicates().sort_values('entidad')"
   ]
  },
  {
   "cell_type": "markdown",
   "metadata": {},
   "source": [
    "Ahora Veamos todos los datos de delitos de una entidad en específico. Por ejemplo, Nuevo león"
   ]
  },
  {
   "cell_type": "code",
   "execution_count": null,
   "metadata": {},
   "outputs": [],
   "source": [
    "datos_long[datos_long['clave_ent'] == 19].sample(15)"
   ]
  },
  {
   "cell_type": "code",
   "execution_count": null,
   "metadata": {},
   "outputs": [],
   "source": [
    "datos_long[(datos_long['clave_ent'] > 19) &  (datos_long['clave_ent'] < 24) & (datos_long['tipo_de_delito'] == 'Homicidio')].sample(15)"
   ]
  },
  {
   "cell_type": "markdown",
   "metadata": {},
   "source": [
    "### Valores de fechas\n",
    "\n",
    "Finalmente, queremos tener una columna \"fecha\". Actualmente tenemos el año y el nombre del mes, pero no tenemos como tal una columna que tenga un tipo de dato fecha. Eso hace que filtrar por fecha sea complicado.\n",
    "\n",
    "Por ejemplo, si queremos conocer todos los homicidios de Oaxaca en enero 2024, haríamos lo siguiente:"
   ]
  },
  {
   "cell_type": "code",
   "execution_count": null,
   "metadata": {},
   "outputs": [],
   "source": [
    "datos_long[\n",
    "    (datos_long['clave_ent'] == 20) &\n",
    "    (datos_long['tipo_de_delito'] == 'Homicidio') &\n",
    "    (datos_long['anio'] == 2024) &\n",
    "    (datos_long['nombre_mes'] == 'enero') \n",
    "]"
   ]
  },
  {
   "cell_type": "markdown",
   "metadata": {},
   "source": [
    "Creemos una columna de fecha. \n",
    "\n",
    "Primero tenemos que convertir el nombre de mes a un número, en donde 1 es enero, 2 febrero, etc."
   ]
  },
  {
   "cell_type": "code",
   "execution_count": null,
   "metadata": {},
   "outputs": [],
   "source": [
    "datos_long.sample(2)"
   ]
  },
  {
   "cell_type": "code",
   "execution_count": null,
   "metadata": {},
   "outputs": [],
   "source": [
    "datos_long[\"nueva_columna\"] = \"dato vacío\"\n",
    "datos_long.sample(6)"
   ]
  },
  {
   "cell_type": "code",
   "execution_count": null,
   "metadata": {},
   "outputs": [],
   "source": [
    "# Diccionario de ayuda para convertir\n",
    "meses = {\n",
    "    \"enero\": 1,\n",
    "    \"febrero\": 2,\n",
    "    \"marzo\": 3,\n",
    "    \"abril\": 4,\n",
    "    \"mayo\": 5,\n",
    "    \"junio\": 6,\n",
    "    \"julio\": 7,\n",
    "    \"agosto\": 8,\n",
    "    \"septiembre\": 9,\n",
    "    \"octubre\": 10,\n",
    "    \"noviembre\": 11,\n",
    "    \"diciembre\": 12\n",
    "}\n",
    "\n",
    "datos_long['mes'] = datos_long['nombre_mes'].map(meses)\n",
    "datos_long.sample(5)"
   ]
  },
  {
   "cell_type": "code",
   "execution_count": null,
   "metadata": {},
   "outputs": [],
   "source": [
    "datos_long[\"frecuencia_mas_10\"] = datos_long[\"frecuencia\"] + 10\n",
    "datos_long.sample(5)"
   ]
  },
  {
   "cell_type": "code",
   "execution_count": null,
   "metadata": {},
   "outputs": [],
   "source": [
    "datos_long[\"anio_mes\"] = datos_long[\"anio\"].astype(str) + datos_long[\"mes\"].astype(str)\n",
    "datos_long.sample(6)"
   ]
  },
  {
   "cell_type": "code",
   "execution_count": null,
   "metadata": {},
   "outputs": [],
   "source": [
    "# yyyy-mm-dd, yy-mm-dd, yymmdd, yyyy/dd/mm"
   ]
  },
  {
   "cell_type": "code",
   "execution_count": null,
   "metadata": {},
   "outputs": [],
   "source": [
    "# Agregamos la columna de fecha juntando el año y el mes\n",
    "datos_long['fecha'] = pd.to_datetime(datos_long['anio'].astype(str) + datos_long['mes'].astype(str), format='%Y%m')\n",
    "datos_long.sample(5)"
   ]
  },
  {
   "cell_type": "code",
   "execution_count": null,
   "metadata": {},
   "outputs": [],
   "source": [
    "# Eliminamos las columnas que ya no necesitamos\n",
    "datos_long = datos_long.drop(columns=['nueva_columna'])\n",
    "datos_long.sample(5)"
   ]
  },
  {
   "cell_type": "markdown",
   "metadata": {},
   "source": [
    "Veamos los homicidios en oaxaca de enero 2024 a la fecha"
   ]
  },
  {
   "cell_type": "code",
   "execution_count": null,
   "metadata": {},
   "outputs": [],
   "source": [
    "datos_long[\n",
    "    (datos_long.tipo_de_delito == \"Homicidio\") &\n",
    "    (datos_long.clave_ent == 20) &\n",
    "    (datos_long.fecha >= '2024-01-01')\n",
    "].sort_values('fecha')"
   ]
  },
  {
   "cell_type": "code",
   "execution_count": null,
   "metadata": {},
   "outputs": [],
   "source": [
    "datos_finales = datos_long[['anio', 'clave_ent', 'entidad', 'tipo_de_delito', 'nombre_mes', 'fecha', 'frecuencia']]\n",
    "datos_finales.head(2)"
   ]
  },
  {
   "cell_type": "markdown",
   "metadata": {},
   "source": [
    "Ya que tenemos muestros datos bien estructurados, los podemos guardar en nuestra computadora. Los guardaremos con el nombre \"delitos.csv\""
   ]
  },
  {
   "cell_type": "code",
   "execution_count": null,
   "metadata": {},
   "outputs": [],
   "source": [
    "datos_finales.to_csv('data/delitos.csv', index=False)"
   ]
  }
 ],
 "metadata": {
  "kernelspec": {
   "display_name": "Python 3 (ipykernel)",
   "language": "python",
   "name": "python3"
  },
  "language_info": {
   "codemirror_mode": {
    "name": "ipython",
    "version": 3
   },
   "file_extension": ".py",
   "mimetype": "text/x-python",
   "name": "python",
   "nbconvert_exporter": "python",
   "pygments_lexer": "ipython3",
   "version": "3.12.3"
  }
 },
 "nbformat": 4,
 "nbformat_minor": 4
}
